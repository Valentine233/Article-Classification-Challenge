{
 "cells": [
  {
   "cell_type": "code",
   "execution_count": 19,
   "metadata": {},
   "outputs": [],
   "source": [
    "from graph import graph_feature\n",
    "from text import text_feature\n",
    "import numpy as np\n",
    "from scipy.sparse import hstack\n",
    "import csv\n",
    "from sklearn.linear_model import LogisticRegression\n",
    "from sklearn.naive_bayes import GaussianNB\n",
    "from sklearn.ensemble import RandomForestClassifier, VotingClassifier\n",
    "from sklearn.pipeline import make_pipeline\n",
    "from sklearn.preprocessing import Normalizer\n",
    "from sklearn.decomposition import TruncatedSVD\n",
    "from sklearn import preprocessing\n",
    "from sklearn.model_selection import cross_val_score\n",
    "import sklearn\n",
    "import xgboost as xgb"
   ]
  },
  {
   "cell_type": "code",
   "execution_count": 2,
   "metadata": {},
   "outputs": [
    {
     "name": "stdout",
     "output_type": "stream",
     "text": [
      "     id  year                                              title  \\\n",
      "0  1001  2000              compactification geometry and duality   \n",
      "1  1002  2000  domain walls and massive gauged supergravity p...   \n",
      "2  1003  2000     comment on metric fluctuations in brane worlds   \n",
      "3  1004  2000         moving mirrors and thermodynamic paradoxes   \n",
      "4  1005  2000  bundles of chiral blocks and boundary conditio...   \n",
      "\n",
      "                       authors  \\\n",
      "0            Paul S. Aspinwall   \n",
      "1  M. Cvetic, H. Lu, C.N. Pope   \n",
      "2     Y.S. Myung, Gungwon Kang   \n",
      "3               Adam D. Helfer   \n",
      "4      J. Fuchs, C. Schweigert   \n",
      "\n",
      "                                            abstract  \n",
      "0  these are notes based on lectures given at tas...  \n",
      "1  we point out that massive gauged supergravity ...  \n",
      "2  recently ivanov and volovich hep-th 9912242 cl...  \n",
      "3  quantum fields responding to moving mirrors ha...  \n",
      "4  proceedings of lie iii clausthal july 1999 var...  \n",
      "Number of classes: 28\n",
      "Train matrix dimensionality: (15341, 158148)\n",
      "Test matrix dimensionality: (3836, 158148)\n",
      "Nodes: 27770\n",
      "Edges: 352807\n",
      "Number of classes: 28\n",
      "Train matrix dimensionality: (15341, 32)\n",
      "Test matrix dimensionality: (3836, 32)\n"
     ]
    }
   ],
   "source": [
    "t = text_feature()\n",
    "g = graph_feature()\n",
    "\n",
    "X_train_graph = g[0]\n",
    "X_train_text = t[0]\n",
    "y_train = g[1]\n",
    "X_test_graph = g[2]\n",
    "X_test_text = t[2]"
   ]
  },
  {
   "cell_type": "code",
   "execution_count": 5,
   "metadata": {},
   "outputs": [
    {
     "name": "stdout",
     "output_type": "stream",
     "text": [
      "(15341, 32)\n",
      "(15341, 158148)\n"
     ]
    }
   ],
   "source": [
    "print X_train_graph.shape\n",
    "print X_train_text.shape"
   ]
  },
  {
   "cell_type": "code",
   "execution_count": 10,
   "metadata": {},
   "outputs": [],
   "source": [
    "X_train = hstack((X_train_graph, X_train_text))\n",
    "X_test = hstack((X_test_graph, X_test_text))"
   ]
  },
  {
   "cell_type": "markdown",
   "metadata": {},
   "source": [
    "# Cross validation"
   ]
  },
  {
   "cell_type": "code",
   "execution_count": 13,
   "metadata": {},
   "outputs": [
    {
     "name": "stdout",
     "output_type": "stream",
     "text": [
      "('scores', array([-2.10494829, -2.13434191, -2.10656815]))\n"
     ]
    }
   ],
   "source": [
    "clf = LogisticRegression()\n",
    "scores = cross_val_score(clf, X_train, y_train, cv=3, scoring='neg_log_loss')\n",
    "print(\"scores\", scores)"
   ]
  },
  {
   "cell_type": "code",
   "execution_count": null,
   "metadata": {},
   "outputs": [
    {
     "name": "stdout",
     "output_type": "stream",
     "text": [
      "Log loss: -2.12 (+/- 0.01) [Logistic Regression]\n"
     ]
    }
   ],
   "source": [
    "clf1 = LogisticRegression(random_state=1)\n",
    "clf2 = xgb.XGBClassifier()\n",
    "eclf = VotingClassifier(estimators=[('lr', clf1), ('xgb', clf2)], voting='hard')\n",
    "\n",
    "for clf, label in zip([clf1, clf2, eclf], ['Logistic Regression', 'Xgboost', 'Ensemble']):\n",
    "    scores = cross_val_score(clf, X_train, y_train, cv=3, scoring='neg_log_loss')\n",
    "    print(\"Log loss: %0.2f (+/- %0.2f) [%s]\" % (scores.mean(), scores.std(), label))"
   ]
  },
  {
   "cell_type": "code",
   "execution_count": null,
   "metadata": {},
   "outputs": [],
   "source": []
  },
  {
   "cell_type": "code",
   "execution_count": null,
   "metadata": {},
   "outputs": [],
   "source": []
  }
 ],
 "metadata": {
  "kernelspec": {
   "display_name": "Python 2",
   "language": "python",
   "name": "python2"
  },
  "language_info": {
   "codemirror_mode": {
    "name": "ipython",
    "version": 2
   },
   "file_extension": ".py",
   "mimetype": "text/x-python",
   "name": "python",
   "nbconvert_exporter": "python",
   "pygments_lexer": "ipython2",
   "version": "2.7.13"
  }
 },
 "nbformat": 4,
 "nbformat_minor": 2
}
